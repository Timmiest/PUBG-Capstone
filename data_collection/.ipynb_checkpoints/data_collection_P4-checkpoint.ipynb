{
 "cells": [
  {
   "cell_type": "markdown",
   "metadata": {},
   "source": [
    "# Data Collection\n",
    "\n",
    "#### Here we are combining the Telemetry dataframes together and joining them with the match overview dataframe.\n"
   ]
  },
  {
   "cell_type": "code",
   "execution_count": 1,
   "metadata": {},
   "outputs": [],
   "source": [
    "from tqdm import tqdm\n",
    "import pandas as pd\n",
    "import numpy as np\n",
    "import os"
   ]
  },
  {
   "cell_type": "code",
   "execution_count": 2,
   "metadata": {},
   "outputs": [],
   "source": [
    "def listDir(dir):\n",
    "    temp_list = []\n",
    "    fileNames = os.listdir(dir)\n",
    "    for fileName in fileNames:\n",
    "        temp_list.append(fileName)\n",
    "    return temp_list"
   ]
  },
  {
   "cell_type": "code",
   "execution_count": null,
   "metadata": {},
   "outputs": [],
   "source": [
    "#loading in the match_df.\n",
    "df = pd.read_csv(r'match_df.csv')"
   ]
  },
  {
   "cell_type": "code",
   "execution_count": 3,
   "metadata": {},
   "outputs": [],
   "source": [
    "telemetry_folder_path = r'/Users/tim/Desktop/GA/lessons/DSI16-lessons/project/project-capstone/My capstone/telemetry_dataframes3'\n",
    "\n",
    "telemetry_files = listDir(telemetry_folder_path)"
   ]
  },
  {
   "cell_type": "code",
   "execution_count": null,
   "metadata": {},
   "outputs": [],
   "source": [
    "#creating the telemtery_df from all the unique telemtery dataframes.\n",
    "telemetry_df = pd.concat([pd.read_csv(r'telemetry_dataframes3/' +f) for f in tqdm(telemetry_files)])"
   ]
  },
  {
   "cell_type": "code",
   "execution_count": null,
   "metadata": {},
   "outputs": [],
   "source": [
    "#trimming the matchID so they're the same. across both dataframes\n",
    "telemetry_df['matchId'] = telemetry_df['MatchId'].apply(lambda x: x[60:])\n",
    "\n",
    "#merging the two dataframes.\n",
    "final_df = df.merge(telemetry_df, how='inner', left_on='matchId', right_on='matchId')\n",
    "\n",
    "#and saving it all as one df in prep for the EDA.\n",
    "final_df.to_csv(r'final_df.csv', index = False)"
   ]
  },
  {
   "cell_type": "code",
   "execution_count": null,
   "metadata": {},
   "outputs": [],
   "source": []
  }
 ],
 "metadata": {
  "kernelspec": {
   "display_name": "Python 3",
   "language": "python",
   "name": "python3"
  },
  "language_info": {
   "codemirror_mode": {
    "name": "ipython",
    "version": 3
   },
   "file_extension": ".py",
   "mimetype": "text/x-python",
   "name": "python",
   "nbconvert_exporter": "python",
   "pygments_lexer": "ipython3",
   "version": "3.8.5"
  }
 },
 "nbformat": 4,
 "nbformat_minor": 4
}
