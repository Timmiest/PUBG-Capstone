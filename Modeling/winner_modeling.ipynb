{
 "cells": [
  {
   "cell_type": "markdown",
   "metadata": {},
   "source": [
    "# Modeling who wins between last 2 players"
   ]
  },
  {
   "cell_type": "code",
   "execution_count": 78,
   "metadata": {},
   "outputs": [],
   "source": [
    "import numpy as np\n",
    "import pandas as pd\n",
    "import seaborn as sns\n",
    "from datetime import datetime\n",
    "import matplotlib.pyplot as plt"
   ]
  },
  {
   "cell_type": "markdown",
   "metadata": {},
   "source": [
    "#### Combining two dataframes together to make a dataframe which is post match stats for all players."
   ]
  },
  {
   "cell_type": "code",
   "execution_count": 127,
   "metadata": {},
   "outputs": [],
   "source": [
    "match_df_othermatches_expanded = pd.read_csv(r'match_df_othermatches_expanded.csv',low_memory=False)"
   ]
  },
  {
   "cell_type": "code",
   "execution_count": 4,
   "metadata": {},
   "outputs": [],
   "source": [
    "pd.set_option('display.max_columns', 2000)"
   ]
  },
  {
   "cell_type": "code",
   "execution_count": 128,
   "metadata": {},
   "outputs": [],
   "source": [
    "match_df_expanded = pd.read_csv(r'match_df_expanded.csv',low_memory=False)"
   ]
  },
  {
   "cell_type": "code",
   "execution_count": 129,
   "metadata": {},
   "outputs": [],
   "source": [
    "match_df = pd.concat([match_df_expanded,match_df_othermatches_expanded])"
   ]
  },
  {
   "cell_type": "code",
   "execution_count": 130,
   "metadata": {},
   "outputs": [
    {
     "data": {
      "text/html": [
       "<div>\n",
       "<style scoped>\n",
       "    .dataframe tbody tr th:only-of-type {\n",
       "        vertical-align: middle;\n",
       "    }\n",
       "\n",
       "    .dataframe tbody tr th {\n",
       "        vertical-align: top;\n",
       "    }\n",
       "\n",
       "    .dataframe thead th {\n",
       "        text-align: right;\n",
       "    }\n",
       "</style>\n",
       "<table border=\"1\" class=\"dataframe\">\n",
       "  <thead>\n",
       "    <tr style=\"text-align: right;\">\n",
       "      <th></th>\n",
       "      <th>createdAt</th>\n",
       "      <th>duration</th>\n",
       "      <th>gameMode</th>\n",
       "      <th>isCustomMatch</th>\n",
       "      <th>mapName</th>\n",
       "      <th>matchType</th>\n",
       "      <th>seasonState</th>\n",
       "      <th>shardId</th>\n",
       "      <th>stats</th>\n",
       "      <th>tags</th>\n",
       "      <th>titleId</th>\n",
       "      <th>starting_players</th>\n",
       "      <th>matchID</th>\n",
       "      <th>console</th>\n",
       "      <th>DBNOs</th>\n",
       "      <th>assists</th>\n",
       "      <th>boosts</th>\n",
       "      <th>damageDealt</th>\n",
       "      <th>deathType</th>\n",
       "      <th>headshotKills</th>\n",
       "      <th>heals</th>\n",
       "      <th>killPlace</th>\n",
       "      <th>killStreaks</th>\n",
       "      <th>kills</th>\n",
       "      <th>longestKill</th>\n",
       "      <th>name</th>\n",
       "      <th>playerId</th>\n",
       "      <th>revives</th>\n",
       "      <th>rideDistance</th>\n",
       "      <th>roadKills</th>\n",
       "      <th>swimDistance</th>\n",
       "      <th>teamKills</th>\n",
       "      <th>timeSurvived</th>\n",
       "      <th>vehicleDestroys</th>\n",
       "      <th>walkDistance</th>\n",
       "      <th>weaponsAcquired</th>\n",
       "      <th>winPlace</th>\n",
       "    </tr>\n",
       "  </thead>\n",
       "  <tbody>\n",
       "    <tr>\n",
       "      <th>0</th>\n",
       "      <td>2021-04-20T00:11:09Z</td>\n",
       "      <td>1759</td>\n",
       "      <td>solo</td>\n",
       "      <td>False</td>\n",
       "      <td>Baltic_Main</td>\n",
       "      <td>official</td>\n",
       "      <td>progress</td>\n",
       "      <td>console</td>\n",
       "      <td>NaN</td>\n",
       "      <td>NaN</td>\n",
       "      <td>bluehole-pubg</td>\n",
       "      <td>99</td>\n",
       "      <td>ce9bce70-943b-43e3-8152-cea571616303</td>\n",
       "      <td>steam</td>\n",
       "      <td>0.0</td>\n",
       "      <td>0.0</td>\n",
       "      <td>0.0</td>\n",
       "      <td>0.000000</td>\n",
       "      <td>byplayer</td>\n",
       "      <td>0.0</td>\n",
       "      <td>0.0</td>\n",
       "      <td>45.0</td>\n",
       "      <td>0.0</td>\n",
       "      <td>0.0</td>\n",
       "      <td>0.00000</td>\n",
       "      <td>OUODA04</td>\n",
       "      <td>ai.315</td>\n",
       "      <td>0.0</td>\n",
       "      <td>0.0</td>\n",
       "      <td>0.0</td>\n",
       "      <td>0.0</td>\n",
       "      <td>0.0</td>\n",
       "      <td>1239.097</td>\n",
       "      <td>0.0</td>\n",
       "      <td>0.00000</td>\n",
       "      <td>2.0</td>\n",
       "      <td>21.0</td>\n",
       "    </tr>\n",
       "    <tr>\n",
       "      <th>1</th>\n",
       "      <td>2021-04-20T00:11:09Z</td>\n",
       "      <td>1759</td>\n",
       "      <td>solo</td>\n",
       "      <td>False</td>\n",
       "      <td>Baltic_Main</td>\n",
       "      <td>official</td>\n",
       "      <td>progress</td>\n",
       "      <td>console</td>\n",
       "      <td>NaN</td>\n",
       "      <td>NaN</td>\n",
       "      <td>bluehole-pubg</td>\n",
       "      <td>99</td>\n",
       "      <td>ce9bce70-943b-43e3-8152-cea571616303</td>\n",
       "      <td>steam</td>\n",
       "      <td>0.0</td>\n",
       "      <td>0.0</td>\n",
       "      <td>0.0</td>\n",
       "      <td>74.200000</td>\n",
       "      <td>byplayer</td>\n",
       "      <td>0.0</td>\n",
       "      <td>0.0</td>\n",
       "      <td>15.0</td>\n",
       "      <td>1.0</td>\n",
       "      <td>2.0</td>\n",
       "      <td>0.00000</td>\n",
       "      <td>DS2783914135</td>\n",
       "      <td>ai.309</td>\n",
       "      <td>0.0</td>\n",
       "      <td>0.0</td>\n",
       "      <td>0.0</td>\n",
       "      <td>0.0</td>\n",
       "      <td>0.0</td>\n",
       "      <td>1352.324</td>\n",
       "      <td>0.0</td>\n",
       "      <td>0.00000</td>\n",
       "      <td>3.0</td>\n",
       "      <td>14.0</td>\n",
       "    </tr>\n",
       "    <tr>\n",
       "      <th>2</th>\n",
       "      <td>2021-04-20T00:11:09Z</td>\n",
       "      <td>1759</td>\n",
       "      <td>solo</td>\n",
       "      <td>False</td>\n",
       "      <td>Baltic_Main</td>\n",
       "      <td>official</td>\n",
       "      <td>progress</td>\n",
       "      <td>console</td>\n",
       "      <td>NaN</td>\n",
       "      <td>NaN</td>\n",
       "      <td>bluehole-pubg</td>\n",
       "      <td>99</td>\n",
       "      <td>ce9bce70-943b-43e3-8152-cea571616303</td>\n",
       "      <td>steam</td>\n",
       "      <td>0.0</td>\n",
       "      <td>0.0</td>\n",
       "      <td>0.0</td>\n",
       "      <td>29.767498</td>\n",
       "      <td>byplayer</td>\n",
       "      <td>0.0</td>\n",
       "      <td>0.0</td>\n",
       "      <td>63.0</td>\n",
       "      <td>0.0</td>\n",
       "      <td>0.0</td>\n",
       "      <td>0.00000</td>\n",
       "      <td>JBS_Temer</td>\n",
       "      <td>ai.261</td>\n",
       "      <td>0.0</td>\n",
       "      <td>0.0</td>\n",
       "      <td>0.0</td>\n",
       "      <td>0.0</td>\n",
       "      <td>0.0</td>\n",
       "      <td>872.832</td>\n",
       "      <td>0.0</td>\n",
       "      <td>2196.87570</td>\n",
       "      <td>4.0</td>\n",
       "      <td>53.0</td>\n",
       "    </tr>\n",
       "    <tr>\n",
       "      <th>3</th>\n",
       "      <td>2021-04-20T00:11:09Z</td>\n",
       "      <td>1759</td>\n",
       "      <td>solo</td>\n",
       "      <td>False</td>\n",
       "      <td>Baltic_Main</td>\n",
       "      <td>official</td>\n",
       "      <td>progress</td>\n",
       "      <td>console</td>\n",
       "      <td>NaN</td>\n",
       "      <td>NaN</td>\n",
       "      <td>bluehole-pubg</td>\n",
       "      <td>99</td>\n",
       "      <td>ce9bce70-943b-43e3-8152-cea571616303</td>\n",
       "      <td>steam</td>\n",
       "      <td>0.0</td>\n",
       "      <td>0.0</td>\n",
       "      <td>0.0</td>\n",
       "      <td>0.000000</td>\n",
       "      <td>suicide</td>\n",
       "      <td>0.0</td>\n",
       "      <td>0.0</td>\n",
       "      <td>61.0</td>\n",
       "      <td>0.0</td>\n",
       "      <td>0.0</td>\n",
       "      <td>0.00000</td>\n",
       "      <td>LegengK_ing</td>\n",
       "      <td>ai.322</td>\n",
       "      <td>0.0</td>\n",
       "      <td>0.0</td>\n",
       "      <td>0.0</td>\n",
       "      <td>0.0</td>\n",
       "      <td>0.0</td>\n",
       "      <td>875.243</td>\n",
       "      <td>0.0</td>\n",
       "      <td>0.00000</td>\n",
       "      <td>0.0</td>\n",
       "      <td>51.0</td>\n",
       "    </tr>\n",
       "    <tr>\n",
       "      <th>4</th>\n",
       "      <td>2021-04-20T00:11:09Z</td>\n",
       "      <td>1759</td>\n",
       "      <td>solo</td>\n",
       "      <td>False</td>\n",
       "      <td>Baltic_Main</td>\n",
       "      <td>official</td>\n",
       "      <td>progress</td>\n",
       "      <td>console</td>\n",
       "      <td>NaN</td>\n",
       "      <td>NaN</td>\n",
       "      <td>bluehole-pubg</td>\n",
       "      <td>99</td>\n",
       "      <td>ce9bce70-943b-43e3-8152-cea571616303</td>\n",
       "      <td>psn</td>\n",
       "      <td>0.0</td>\n",
       "      <td>0.0</td>\n",
       "      <td>0.0</td>\n",
       "      <td>344.101040</td>\n",
       "      <td>byplayer</td>\n",
       "      <td>0.0</td>\n",
       "      <td>0.0</td>\n",
       "      <td>9.0</td>\n",
       "      <td>1.0</td>\n",
       "      <td>4.0</td>\n",
       "      <td>122.06795</td>\n",
       "      <td>DeltaForce7977</td>\n",
       "      <td>account.0e8b0c205fb940ca977360c0b03c5eb1</td>\n",
       "      <td>0.0</td>\n",
       "      <td>0.0</td>\n",
       "      <td>0.0</td>\n",
       "      <td>0.0</td>\n",
       "      <td>0.0</td>\n",
       "      <td>650.600</td>\n",
       "      <td>0.0</td>\n",
       "      <td>603.33154</td>\n",
       "      <td>6.0</td>\n",
       "      <td>64.0</td>\n",
       "    </tr>\n",
       "  </tbody>\n",
       "</table>\n",
       "</div>"
      ],
      "text/plain": [
       "              createdAt  duration gameMode  isCustomMatch      mapName  \\\n",
       "0  2021-04-20T00:11:09Z      1759     solo          False  Baltic_Main   \n",
       "1  2021-04-20T00:11:09Z      1759     solo          False  Baltic_Main   \n",
       "2  2021-04-20T00:11:09Z      1759     solo          False  Baltic_Main   \n",
       "3  2021-04-20T00:11:09Z      1759     solo          False  Baltic_Main   \n",
       "4  2021-04-20T00:11:09Z      1759     solo          False  Baltic_Main   \n",
       "\n",
       "  matchType seasonState  shardId  stats  tags        titleId  \\\n",
       "0  official    progress  console    NaN   NaN  bluehole-pubg   \n",
       "1  official    progress  console    NaN   NaN  bluehole-pubg   \n",
       "2  official    progress  console    NaN   NaN  bluehole-pubg   \n",
       "3  official    progress  console    NaN   NaN  bluehole-pubg   \n",
       "4  official    progress  console    NaN   NaN  bluehole-pubg   \n",
       "\n",
       "   starting_players                               matchID console  DBNOs  \\\n",
       "0                99  ce9bce70-943b-43e3-8152-cea571616303   steam    0.0   \n",
       "1                99  ce9bce70-943b-43e3-8152-cea571616303   steam    0.0   \n",
       "2                99  ce9bce70-943b-43e3-8152-cea571616303   steam    0.0   \n",
       "3                99  ce9bce70-943b-43e3-8152-cea571616303   steam    0.0   \n",
       "4                99  ce9bce70-943b-43e3-8152-cea571616303     psn    0.0   \n",
       "\n",
       "   assists  boosts  damageDealt deathType  headshotKills  heals  killPlace  \\\n",
       "0      0.0     0.0     0.000000  byplayer            0.0    0.0       45.0   \n",
       "1      0.0     0.0    74.200000  byplayer            0.0    0.0       15.0   \n",
       "2      0.0     0.0    29.767498  byplayer            0.0    0.0       63.0   \n",
       "3      0.0     0.0     0.000000   suicide            0.0    0.0       61.0   \n",
       "4      0.0     0.0   344.101040  byplayer            0.0    0.0        9.0   \n",
       "\n",
       "   killStreaks  kills  longestKill            name  \\\n",
       "0          0.0    0.0      0.00000         OUODA04   \n",
       "1          1.0    2.0      0.00000    DS2783914135   \n",
       "2          0.0    0.0      0.00000       JBS_Temer   \n",
       "3          0.0    0.0      0.00000     LegengK_ing   \n",
       "4          1.0    4.0    122.06795  DeltaForce7977   \n",
       "\n",
       "                                   playerId  revives  rideDistance  roadKills  \\\n",
       "0                                    ai.315      0.0           0.0        0.0   \n",
       "1                                    ai.309      0.0           0.0        0.0   \n",
       "2                                    ai.261      0.0           0.0        0.0   \n",
       "3                                    ai.322      0.0           0.0        0.0   \n",
       "4  account.0e8b0c205fb940ca977360c0b03c5eb1      0.0           0.0        0.0   \n",
       "\n",
       "   swimDistance  teamKills  timeSurvived  vehicleDestroys  walkDistance  \\\n",
       "0           0.0        0.0      1239.097              0.0       0.00000   \n",
       "1           0.0        0.0      1352.324              0.0       0.00000   \n",
       "2           0.0        0.0       872.832              0.0    2196.87570   \n",
       "3           0.0        0.0       875.243              0.0       0.00000   \n",
       "4           0.0        0.0       650.600              0.0     603.33154   \n",
       "\n",
       "   weaponsAcquired  winPlace  \n",
       "0              2.0      21.0  \n",
       "1              3.0      14.0  \n",
       "2              4.0      53.0  \n",
       "3              0.0      51.0  \n",
       "4              6.0      64.0  "
      ]
     },
     "execution_count": 130,
     "metadata": {},
     "output_type": "execute_result"
    }
   ],
   "source": [
    "match_df.head()"
   ]
  },
  {
   "cell_type": "code",
   "execution_count": 131,
   "metadata": {},
   "outputs": [],
   "source": [
    "match_df.dropna(axis=1, how='all',inplace=True)"
   ]
  },
  {
   "cell_type": "markdown",
   "metadata": {},
   "source": [
    "#### Making a copy of the dataframe and filtering it so we're only looking at official, solo matches with over 80 players in them at the start of the match. We then limited it to the last two players alive (as their survival time is the same and therefor comparable)."
   ]
  },
  {
   "cell_type": "code",
   "execution_count": 173,
   "metadata": {},
   "outputs": [],
   "source": [
    "#creating new df, making sure all matches fit my criteria for map and game mode\n",
    "for_modeling_df = match_df.copy()\n",
    "for_modeling_df = for_modeling_df[for_modeling_df['mapName'] != 'Range_Main']\n",
    "for_modeling_df = for_modeling_df[for_modeling_df['gameMode'] == 'solo']\n",
    "for_modeling_df = for_modeling_df[for_modeling_df['isCustomMatch'] == 0]\n",
    "for_modeling_df = for_modeling_df[for_modeling_df['matchType'] == 'official']\n",
    "for_modeling_df = for_modeling_df[for_modeling_df['starting_players'] > 80]"
   ]
  },
  {
   "cell_type": "code",
   "execution_count": 174,
   "metadata": {},
   "outputs": [],
   "source": [
    "#creating new column, time left in the match when they died (seconds)\n",
    "for_modeling_df['game_left_on_death'] = for_modeling_df['duration'] - for_modeling_df['timeSurvived']"
   ]
  },
  {
   "cell_type": "code",
   "execution_count": 175,
   "metadata": {},
   "outputs": [],
   "source": [
    "#creating a new column, did they win or not.\n",
    "for_modeling_df['did_win'] = for_modeling_df.winPlace.apply(lambda x: 1 if x == 1.0 else 0)"
   ]
  },
  {
   "cell_type": "code",
   "execution_count": 204,
   "metadata": {},
   "outputs": [],
   "source": [
    "#looking at just the players who were alive 2 minutes before the end of the match. filter to last two players.\n",
    "last_2mins_df = for_modeling_df[for_modeling_df.game_left_on_death < 120]\n",
    "last_2mins_df = last_2mins_df[last_2mins_df.winPlace < 3.0]"
   ]
  },
  {
   "cell_type": "code",
   "execution_count": 205,
   "metadata": {},
   "outputs": [],
   "source": [
    "def remove_a_kill_from_winner(r):\n",
    "    if r.winPlace == 1:\n",
    "        return r.kills - 1\n",
    "    else:\n",
    "        return r.kills"
   ]
  },
  {
   "cell_type": "code",
   "execution_count": 206,
   "metadata": {},
   "outputs": [],
   "source": [
    "#most of the time, the 2nd to last player is killed by the last player. I'm removing this reduce data leakage.\n",
    "last_2mins_df.kills=last_2mins_df.apply(remove_a_kill_from_winner, axis=1)"
   ]
  },
  {
   "cell_type": "code",
   "execution_count": 207,
   "metadata": {},
   "outputs": [],
   "source": [
    "#removing excess columns\n",
    "last_2mins_df = last_2mins_df[['mapName', 'starting_players','console','boosts', 'damageDealt','headshotKills', 'heals', 'killStreaks',\n",
    "                               'longestKill','rideDistance', 'killPlace','kills',\n",
    "                               'roadKills', 'swimDistance',\n",
    "                               'vehicleDestroys', 'walkDistance', 'weaponsAcquired', 'did_win']]"
   ]
  },
  {
   "cell_type": "code",
   "execution_count": 180,
   "metadata": {},
   "outputs": [],
   "source": [
    "#removing instances where a player has negative kills (happens very rarely, when a player wins with 0 kills)\n",
    "last_2mins_df = last_2mins_df[last_2mins_df.kills >= 0]"
   ]
  },
  {
   "cell_type": "markdown",
   "metadata": {},
   "source": [
    "#### Here we're looking at the baseline accuracy. As we're only looking at the last 2 players alive, we would expect this to be 50%."
   ]
  },
  {
   "cell_type": "code",
   "execution_count": 181,
   "metadata": {},
   "outputs": [
    {
     "data": {
      "text/plain": [
       "0    0.500966\n",
       "1    0.499034\n",
       "Name: did_win, dtype: float64"
      ]
     },
     "execution_count": 181,
     "metadata": {},
     "output_type": "execute_result"
    }
   ],
   "source": [
    "last_2mins_df.did_win.value_counts(normalize=True)"
   ]
  },
  {
   "cell_type": "code",
   "execution_count": 182,
   "metadata": {},
   "outputs": [],
   "source": [
    "from sklearn.model_selection import train_test_split, cross_val_score, GridSearchCV\n",
    "from sklearn.preprocessing import StandardScaler\n",
    "from sklearn.linear_model import LogisticRegression, LogisticRegressionCV\n",
    "from sklearn.tree import DecisionTreeClassifier\n",
    "from sklearn.ensemble.bagging import BaggingClassifier\n",
    "from sklearn.metrics import confusion_matrix\n",
    "from sklearn.neighbors import KNeighborsClassifier\n",
    "from sklearn.ensemble import RandomForestClassifier, VotingClassifier"
   ]
  },
  {
   "cell_type": "code",
   "execution_count": 183,
   "metadata": {},
   "outputs": [],
   "source": [
    "#model fitting function for easy modeling.\n",
    "def model_fitter(model, X_train, y_train, X_test, y_test, cv=5):\n",
    "    model.fit(X_train, y_train)\n",
    "    cv_score = np.mean(cross_val_score(model, X_train, y_train, cv=cv))\n",
    "    training_score = model.score(X_train, y_train)\n",
    "    test_score = model.score(X_test, y_test)\n",
    "    return model, cv_score, training_score, test_score"
   ]
  },
  {
   "cell_type": "code",
   "execution_count": 184,
   "metadata": {},
   "outputs": [
    {
     "data": {
      "text/html": [
       "<div>\n",
       "<style scoped>\n",
       "    .dataframe tbody tr th:only-of-type {\n",
       "        vertical-align: middle;\n",
       "    }\n",
       "\n",
       "    .dataframe tbody tr th {\n",
       "        vertical-align: top;\n",
       "    }\n",
       "\n",
       "    .dataframe thead th {\n",
       "        text-align: right;\n",
       "    }\n",
       "</style>\n",
       "<table border=\"1\" class=\"dataframe\">\n",
       "  <thead>\n",
       "    <tr style=\"text-align: right;\">\n",
       "      <th></th>\n",
       "      <th>starting_players</th>\n",
       "      <th>boosts</th>\n",
       "      <th>damageDealt</th>\n",
       "      <th>headshotKills</th>\n",
       "      <th>heals</th>\n",
       "      <th>killStreaks</th>\n",
       "      <th>longestKill</th>\n",
       "      <th>rideDistance</th>\n",
       "      <th>kills</th>\n",
       "      <th>killPlace</th>\n",
       "      <th>roadKills</th>\n",
       "      <th>swimDistance</th>\n",
       "      <th>vehicleDestroys</th>\n",
       "      <th>walkDistance</th>\n",
       "      <th>weaponsAcquired</th>\n",
       "      <th>did_win</th>\n",
       "    </tr>\n",
       "  </thead>\n",
       "  <tbody>\n",
       "    <tr>\n",
       "      <th>count</th>\n",
       "      <td>53307.000000</td>\n",
       "      <td>53307.000000</td>\n",
       "      <td>53307.000000</td>\n",
       "      <td>53307.000000</td>\n",
       "      <td>53307.000000</td>\n",
       "      <td>53307.000000</td>\n",
       "      <td>53307.000000</td>\n",
       "      <td>53307.000000</td>\n",
       "      <td>53307.000000</td>\n",
       "      <td>53307.000000</td>\n",
       "      <td>53307.000000</td>\n",
       "      <td>53307.000000</td>\n",
       "      <td>53307.000000</td>\n",
       "      <td>53307.000000</td>\n",
       "      <td>53307.000000</td>\n",
       "      <td>53307.000000</td>\n",
       "    </tr>\n",
       "    <tr>\n",
       "      <th>mean</th>\n",
       "      <td>97.239068</td>\n",
       "      <td>6.098843</td>\n",
       "      <td>629.055147</td>\n",
       "      <td>1.368357</td>\n",
       "      <td>3.228263</td>\n",
       "      <td>1.211923</td>\n",
       "      <td>98.922903</td>\n",
       "      <td>2342.143033</td>\n",
       "      <td>5.581124</td>\n",
       "      <td>5.384490</td>\n",
       "      <td>0.083985</td>\n",
       "      <td>13.489208</td>\n",
       "      <td>0.062712</td>\n",
       "      <td>2569.856583</td>\n",
       "      <td>5.839758</td>\n",
       "      <td>0.499034</td>\n",
       "    </tr>\n",
       "    <tr>\n",
       "      <th>std</th>\n",
       "      <td>3.012192</td>\n",
       "      <td>3.167779</td>\n",
       "      <td>351.626844</td>\n",
       "      <td>1.403902</td>\n",
       "      <td>3.703510</td>\n",
       "      <td>0.499294</td>\n",
       "      <td>75.589008</td>\n",
       "      <td>2927.447666</td>\n",
       "      <td>3.395065</td>\n",
       "      <td>7.691201</td>\n",
       "      <td>0.363953</td>\n",
       "      <td>112.609198</td>\n",
       "      <td>0.262294</td>\n",
       "      <td>1080.052686</td>\n",
       "      <td>2.182115</td>\n",
       "      <td>0.500004</td>\n",
       "    </tr>\n",
       "    <tr>\n",
       "      <th>min</th>\n",
       "      <td>81.000000</td>\n",
       "      <td>0.000000</td>\n",
       "      <td>0.000000</td>\n",
       "      <td>0.000000</td>\n",
       "      <td>0.000000</td>\n",
       "      <td>0.000000</td>\n",
       "      <td>0.000000</td>\n",
       "      <td>0.000000</td>\n",
       "      <td>0.000000</td>\n",
       "      <td>1.000000</td>\n",
       "      <td>0.000000</td>\n",
       "      <td>0.000000</td>\n",
       "      <td>0.000000</td>\n",
       "      <td>0.000000</td>\n",
       "      <td>0.000000</td>\n",
       "      <td>0.000000</td>\n",
       "    </tr>\n",
       "    <tr>\n",
       "      <th>25%</th>\n",
       "      <td>96.000000</td>\n",
       "      <td>4.000000</td>\n",
       "      <td>369.206020</td>\n",
       "      <td>0.000000</td>\n",
       "      <td>1.000000</td>\n",
       "      <td>1.000000</td>\n",
       "      <td>44.111616</td>\n",
       "      <td>0.000000</td>\n",
       "      <td>3.000000</td>\n",
       "      <td>1.000000</td>\n",
       "      <td>0.000000</td>\n",
       "      <td>0.000000</td>\n",
       "      <td>0.000000</td>\n",
       "      <td>1862.832650</td>\n",
       "      <td>4.000000</td>\n",
       "      <td>0.000000</td>\n",
       "    </tr>\n",
       "    <tr>\n",
       "      <th>50%</th>\n",
       "      <td>98.000000</td>\n",
       "      <td>6.000000</td>\n",
       "      <td>587.600100</td>\n",
       "      <td>1.000000</td>\n",
       "      <td>2.000000</td>\n",
       "      <td>1.000000</td>\n",
       "      <td>85.029050</td>\n",
       "      <td>1315.280500</td>\n",
       "      <td>5.000000</td>\n",
       "      <td>3.000000</td>\n",
       "      <td>0.000000</td>\n",
       "      <td>0.000000</td>\n",
       "      <td>0.000000</td>\n",
       "      <td>2530.503700</td>\n",
       "      <td>6.000000</td>\n",
       "      <td>0.000000</td>\n",
       "    </tr>\n",
       "    <tr>\n",
       "      <th>75%</th>\n",
       "      <td>100.000000</td>\n",
       "      <td>8.000000</td>\n",
       "      <td>844.133400</td>\n",
       "      <td>2.000000</td>\n",
       "      <td>4.000000</td>\n",
       "      <td>1.000000</td>\n",
       "      <td>134.967980</td>\n",
       "      <td>3807.229000</td>\n",
       "      <td>8.000000</td>\n",
       "      <td>6.000000</td>\n",
       "      <td>0.000000</td>\n",
       "      <td>0.000000</td>\n",
       "      <td>0.000000</td>\n",
       "      <td>3222.929950</td>\n",
       "      <td>7.000000</td>\n",
       "      <td>1.000000</td>\n",
       "    </tr>\n",
       "    <tr>\n",
       "      <th>max</th>\n",
       "      <td>100.000000</td>\n",
       "      <td>50.000000</td>\n",
       "      <td>2918.669000</td>\n",
       "      <td>12.000000</td>\n",
       "      <td>65.000000</td>\n",
       "      <td>6.000000</td>\n",
       "      <td>592.824000</td>\n",
       "      <td>33430.668000</td>\n",
       "      <td>30.000000</td>\n",
       "      <td>64.000000</td>\n",
       "      <td>8.000000</td>\n",
       "      <td>5492.596700</td>\n",
       "      <td>4.000000</td>\n",
       "      <td>11611.287000</td>\n",
       "      <td>30.000000</td>\n",
       "      <td>1.000000</td>\n",
       "    </tr>\n",
       "  </tbody>\n",
       "</table>\n",
       "</div>"
      ],
      "text/plain": [
       "       starting_players        boosts   damageDealt  headshotKills  \\\n",
       "count      53307.000000  53307.000000  53307.000000   53307.000000   \n",
       "mean          97.239068      6.098843    629.055147       1.368357   \n",
       "std            3.012192      3.167779    351.626844       1.403902   \n",
       "min           81.000000      0.000000      0.000000       0.000000   \n",
       "25%           96.000000      4.000000    369.206020       0.000000   \n",
       "50%           98.000000      6.000000    587.600100       1.000000   \n",
       "75%          100.000000      8.000000    844.133400       2.000000   \n",
       "max          100.000000     50.000000   2918.669000      12.000000   \n",
       "\n",
       "              heals   killStreaks   longestKill  rideDistance         kills  \\\n",
       "count  53307.000000  53307.000000  53307.000000  53307.000000  53307.000000   \n",
       "mean       3.228263      1.211923     98.922903   2342.143033      5.581124   \n",
       "std        3.703510      0.499294     75.589008   2927.447666      3.395065   \n",
       "min        0.000000      0.000000      0.000000      0.000000      0.000000   \n",
       "25%        1.000000      1.000000     44.111616      0.000000      3.000000   \n",
       "50%        2.000000      1.000000     85.029050   1315.280500      5.000000   \n",
       "75%        4.000000      1.000000    134.967980   3807.229000      8.000000   \n",
       "max       65.000000      6.000000    592.824000  33430.668000     30.000000   \n",
       "\n",
       "          killPlace     roadKills  swimDistance  vehicleDestroys  \\\n",
       "count  53307.000000  53307.000000  53307.000000     53307.000000   \n",
       "mean       5.384490      0.083985     13.489208         0.062712   \n",
       "std        7.691201      0.363953    112.609198         0.262294   \n",
       "min        1.000000      0.000000      0.000000         0.000000   \n",
       "25%        1.000000      0.000000      0.000000         0.000000   \n",
       "50%        3.000000      0.000000      0.000000         0.000000   \n",
       "75%        6.000000      0.000000      0.000000         0.000000   \n",
       "max       64.000000      8.000000   5492.596700         4.000000   \n",
       "\n",
       "       walkDistance  weaponsAcquired       did_win  \n",
       "count  53307.000000     53307.000000  53307.000000  \n",
       "mean    2569.856583         5.839758      0.499034  \n",
       "std     1080.052686         2.182115      0.500004  \n",
       "min        0.000000         0.000000      0.000000  \n",
       "25%     1862.832650         4.000000      0.000000  \n",
       "50%     2530.503700         6.000000      0.000000  \n",
       "75%     3222.929950         7.000000      1.000000  \n",
       "max    11611.287000        30.000000      1.000000  "
      ]
     },
     "execution_count": 184,
     "metadata": {},
     "output_type": "execute_result"
    }
   ],
   "source": [
    "last_2mins_df.describe()"
   ]
  },
  {
   "cell_type": "markdown",
   "metadata": {},
   "source": [
    "#### Standardising the features, doing a train/test split and running a selection of models..."
   ]
  },
  {
   "cell_type": "code",
   "execution_count": 240,
   "metadata": {},
   "outputs": [
    {
     "data": {
      "text/html": [
       "<div>\n",
       "<style scoped>\n",
       "    .dataframe tbody tr th:only-of-type {\n",
       "        vertical-align: middle;\n",
       "    }\n",
       "\n",
       "    .dataframe tbody tr th {\n",
       "        vertical-align: top;\n",
       "    }\n",
       "\n",
       "    .dataframe thead th {\n",
       "        text-align: right;\n",
       "    }\n",
       "</style>\n",
       "<table border=\"1\" class=\"dataframe\">\n",
       "  <thead>\n",
       "    <tr style=\"text-align: right;\">\n",
       "      <th></th>\n",
       "      <th>model</th>\n",
       "      <th>cv score</th>\n",
       "      <th>training score</th>\n",
       "      <th>test score</th>\n",
       "    </tr>\n",
       "  </thead>\n",
       "  <tbody>\n",
       "    <tr>\n",
       "      <th>0</th>\n",
       "      <td>LogisticRegression(max_iter=2000)</td>\n",
       "      <td>0.730598</td>\n",
       "      <td>0.731278</td>\n",
       "      <td>0.729497</td>\n",
       "    </tr>\n",
       "    <tr>\n",
       "      <th>1</th>\n",
       "      <td>DecisionTreeClassifier(max_depth=6)</td>\n",
       "      <td>0.770058</td>\n",
       "      <td>0.770925</td>\n",
       "      <td>0.767270</td>\n",
       "    </tr>\n",
       "    <tr>\n",
       "      <th>2</th>\n",
       "      <td>(DecisionTreeClassifier(random_state=161616710...</td>\n",
       "      <td>0.770340</td>\n",
       "      <td>0.987464</td>\n",
       "      <td>0.769707</td>\n",
       "    </tr>\n",
       "    <tr>\n",
       "      <th>3</th>\n",
       "      <td>KNeighborsClassifier()</td>\n",
       "      <td>0.616248</td>\n",
       "      <td>0.751711</td>\n",
       "      <td>0.617677</td>\n",
       "    </tr>\n",
       "    <tr>\n",
       "      <th>4</th>\n",
       "      <td>(DecisionTreeClassifier(max_features='auto', r...</td>\n",
       "      <td>0.789929</td>\n",
       "      <td>1.000000</td>\n",
       "      <td>0.789015</td>\n",
       "    </tr>\n",
       "    <tr>\n",
       "      <th>5</th>\n",
       "      <td>LogisticRegressionCV(Cs=array([1.00000000e-04,...</td>\n",
       "      <td>0.730715</td>\n",
       "      <td>0.731067</td>\n",
       "      <td>0.729778</td>\n",
       "    </tr>\n",
       "  </tbody>\n",
       "</table>\n",
       "</div>"
      ],
      "text/plain": [
       "                                               model  cv score  \\\n",
       "0                  LogisticRegression(max_iter=2000)  0.730598   \n",
       "1                DecisionTreeClassifier(max_depth=6)  0.770058   \n",
       "2  (DecisionTreeClassifier(random_state=161616710...  0.770340   \n",
       "3                             KNeighborsClassifier()  0.616248   \n",
       "4  (DecisionTreeClassifier(max_features='auto', r...  0.789929   \n",
       "5  LogisticRegressionCV(Cs=array([1.00000000e-04,...  0.730715   \n",
       "\n",
       "   training score  test score  \n",
       "0        0.731278    0.729497  \n",
       "1        0.770925    0.767270  \n",
       "2        0.987464    0.769707  \n",
       "3        0.751711    0.617677  \n",
       "4        1.000000    0.789015  \n",
       "5        0.731067    0.729778  "
      ]
     },
     "execution_count": 240,
     "metadata": {},
     "output_type": "execute_result"
    }
   ],
   "source": [
    "X = last_2mins_df.copy()\n",
    "y = X.pop('did_win')\n",
    "X = pd.get_dummies(X)\n",
    "\n",
    "X_train, X_test, y_train, y_test = train_test_split(\n",
    "    X, y, test_size=0.2, random_state=1, shuffle=True,stratify=y)\n",
    "\n",
    "scaler = StandardScaler()\n",
    "X_train = pd.DataFrame(scaler.fit_transform(X_train), \n",
    "                       columns=X_train.columns)\n",
    "X_test = pd.DataFrame(scaler.transform(X_test), \n",
    "                      columns=X_train.columns)\n",
    "\n",
    "model_list = []\n",
    "\n",
    "LR = LogisticRegression(max_iter=2000,)\n",
    "model_list.append(model_fitter(LR, X_train, y_train, X_test, y_test, cv=5))\n",
    "\n",
    "dtc = DecisionTreeClassifier(max_depth=6)\n",
    "model_list.append(model_fitter(dtc, X_train, y_train, X_test, y_test, cv=5))\n",
    "\n",
    "BC = BaggingClassifier()\n",
    "model_list.append(model_fitter(BC, X_train, y_train, X_test, y_test, cv=5))\n",
    "\n",
    "knn = KNeighborsClassifier(n_neighbors=5)\n",
    "model_list.append(model_fitter(knn, X_train, y_train, X_test, y_test, cv=5))\n",
    "\n",
    "RFC = RandomForestClassifier()\n",
    "model_list.append(model_fitter(RFC, X_train, y_train, X_test, y_test, cv=5))\n",
    "\n",
    "LRCV = LogisticRegressionCV(Cs=np.logspace(-4, 4, 10), cv=5, solver='lbfgs')\n",
    "model_list.append(model_fitter(LRCV, X_train, y_train, X_test, y_test, cv=5))\n",
    "\n",
    "pd.DataFrame(model_list, columns = ['model','cv score','training score','test score'])"
   ]
  },
  {
   "cell_type": "markdown",
   "metadata": {},
   "source": [
    "#### The random Forest classifier provided the best test score, but because it's unsupervised, we can't easily use it to determine key factors. Below we can look at the coefficients from a Logistic Regression gridsearch. Damage dealt, kill place and kills are all prominent features, although there's likely to be some multicollinearity between these."
   ]
  },
  {
   "cell_type": "code",
   "execution_count": 188,
   "metadata": {},
   "outputs": [
    {
     "name": "stdout",
     "output_type": "stream",
     "text": [
      "Fitting 5 folds for each of 80 candidates, totalling 400 fits\n"
     ]
    },
    {
     "name": "stderr",
     "output_type": "stream",
     "text": [
      "[Parallel(n_jobs=2)]: Using backend LokyBackend with 2 concurrent workers.\n",
      "[Parallel(n_jobs=2)]: Done  70 tasks      | elapsed:    8.6s\n",
      "[Parallel(n_jobs=2)]: Done 375 tasks      | elapsed:  1.0min\n",
      "[Parallel(n_jobs=2)]: Done 400 out of 400 | elapsed:  1.1min finished\n"
     ]
    },
    {
     "data": {
      "text/plain": [
       "GridSearchCV(cv=5, estimator=LogisticRegression(), n_jobs=2,\n",
       "             param_grid={'C': array([1.00000000e-05, 1.29154967e-04, 1.66810054e-03, 2.15443469e-02,\n",
       "       2.78255940e-01, 3.59381366e+00, 4.64158883e+01, 5.99484250e+02,\n",
       "       7.74263683e+03, 1.00000000e+05]),\n",
       "                         'penalty': ['l1', 'l2'],\n",
       "                         'solver': ['liblinear', 'saga', 'lbfgs', 'newton-cg']},\n",
       "             return_train_score=True, verbose=1)"
      ]
     },
     "execution_count": 188,
     "metadata": {},
     "output_type": "execute_result"
    }
   ],
   "source": [
    "params = {\n",
    "    'penalty':['l1','l2'],\n",
    "    'solver':['liblinear', 'saga', 'lbfgs', 'newton-cg'],\n",
    "    'C': np.logspace(-5,5,10)}\n",
    "\n",
    "lr = LogisticRegression()\n",
    "lr_gridsearch = GridSearchCV(lr,\n",
    "                              params,\n",
    "                              n_jobs=2,\n",
    "                              cv=5, \n",
    "                              verbose=1,\n",
    "                              return_train_score=True)\n",
    "\n",
    "lr_gridsearch.fit(X_train, y_train)"
   ]
  },
  {
   "cell_type": "code",
   "execution_count": 242,
   "metadata": {},
   "outputs": [
    {
     "data": {
      "image/png": "[encoded data removed]",
      "text/plain": [
       "<Figure size 1296x720 with 1 Axes>"
      ]
     },
     "metadata": {
      "needs_background": "light"
     },
     "output_type": "display_data"
    }
   ],
   "source": [
    "pd.DataFrame(list(zip(X.columns, lr_gridsearch.best_estimator_.coef_[0])), \n",
    "             columns=['feature', 'coef'])\\\n",
    "    .sort_values(by='coef') \\\n",
    "    .plot(kind='barh', x='feature', y='coef', figsize=(18, 10))\n",
    "plt.savefig('/Users/tim/Desktop/Capstone images/modeling/winner_pred_coefs_LR.png')\n",
    "plt.show()"
   ]
  },
  {
   "cell_type": "code",
   "execution_count": 232,
   "metadata": {},
   "outputs": [
    {
     "data": {
      "image/png": "[encoded data removed]",
      "text/plain": [
       "<Figure size 720x720 with 1 Axes>"
      ]
     },
     "metadata": {
      "needs_background": "light"
     },
     "output_type": "display_data"
    }
   ],
   "source": [
    "fig, ax = plt.subplots(figsize=(10, 10))\n",
    "plot_roc_curve(lr_gridsearch, X_test, y_test, ax=ax)\n",
    "ax.plot([0, 1], [0, 1], 'k--', linewidth=4)\n",
    "plt.savefig('/Users/tim/Desktop/Capstone images/modeling/winner_pred_ROC_LR.png')\n",
    "plt.show()"
   ]
  },
  {
   "cell_type": "code",
   "execution_count": 233,
   "metadata": {},
   "outputs": [
    {
     "data": {
      "image/png": "[encoded data removed]",
      "text/plain": [
       "<Figure size 720x720 with 1 Axes>"
      ]
     },
     "metadata": {
      "needs_background": "light"
     },
     "output_type": "display_data"
    }
   ],
   "source": [
    "plt.fig, ax = plt.subplots(figsize=(10, 10))\n",
    "plot_precision_recall_curve(lr_gridsearch, X_test, y_test, ax=ax)\n",
    "ax.plot([0, 1], [0, 1], 'k--', linewidth=2)\n",
    "plt.savefig('/Users/tim/Desktop/Capstone images/modeling/winner_pred_RECALL_LR.png')\n",
    "plt.show()"
   ]
  },
  {
   "cell_type": "markdown",
   "metadata": {},
   "source": [
    "#### This is a gridsearch of the bagging classifier in an attempt to optimise it. Because of the unsupervised resampling element of the bagging classifier, the score will change on each run."
   ]
  },
  {
   "cell_type": "code",
   "execution_count": 190,
   "metadata": {},
   "outputs": [
    {
     "name": "stdout",
     "output_type": "stream",
     "text": [
      "Fitting 5 folds for each of 600 candidates, totalling 3000 fits\n"
     ]
    },
    {
     "name": "stderr",
     "output_type": "stream",
     "text": [
      "[Parallel(n_jobs=1)]: Using backend SequentialBackend with 1 concurrent workers.\n",
      "[Parallel(n_jobs=1)]: Done 3000 out of 3000 | elapsed: 20.6min finished\n"
     ]
    },
    {
     "data": {
      "text/plain": [
       "GridSearchCV(estimator=BaggingClassifier(base_estimator=DecisionTreeClassifier(),\n",
       "                                         max_features=0.6, n_estimators=100),\n",
       "             param_grid={'base_estimator__max_depth': [1, 2, 3, 4, 5, 6],\n",
       "                         'bootstrap': [True, False],\n",
       "                         'max_samples': [0.05, 0.1, 0.2, 0.5, 0.8],\n",
       "                         'n_estimators': [1, 2, 3, 5, 7, 10, 14, 21, 35, 50]},\n",
       "             return_train_score=True, verbose=1)"
      ]
     },
     "execution_count": 190,
     "metadata": {},
     "output_type": "execute_result"
    }
   ],
   "source": [
    "params = {\n",
    "    'base_estimator__max_depth' : [ 1, 2, 3, 4, 5, 6],\n",
    "    'max_samples' : [0.05, 0.1, 0.2, 0.5,0.8],\n",
    "    'n_estimators' : [1, 2, 3, 5, 7,10,14,21,35,50],\n",
    "    'bootstrap': [True, False]\n",
    "}\n",
    "\n",
    "BC = BaggingClassifier()\n",
    "BC_gridsearch = GridSearchCV(BaggingClassifier(DecisionTreeClassifier(),\n",
    "                                               n_estimators = 100, max_features = 0.6),\n",
    "                             params,\n",
    "                             verbose=1,\n",
    "                             return_train_score=True)\n",
    "\n",
    "BC_gridsearch.fit(X_train, y_train)"
   ]
  },
  {
   "cell_type": "code",
   "execution_count": 191,
   "metadata": {},
   "outputs": [
    {
     "data": {
      "text/plain": [
       "0.7750967288075975"
      ]
     },
     "execution_count": 191,
     "metadata": {},
     "output_type": "execute_result"
    }
   ],
   "source": [
    "BC_gridsearch.best_score_"
   ]
  },
  {
   "cell_type": "markdown",
   "metadata": {},
   "source": [
    "#### Considering the baseline accuracy of 50%, this model is doing a good job of predicting if a player is a winner or not."
   ]
  },
  {
   "cell_type": "code",
   "execution_count": 192,
   "metadata": {},
   "outputs": [
    {
     "data": {
      "image/png": "[encoded data removed]",
      "text/plain": [
       "<Figure size 720x720 with 2 Axes>"
      ]
     },
     "metadata": {
      "needs_background": "light"
     },
     "output_type": "display_data"
    }
   ],
   "source": [
    "from sklearn.metrics import plot_confusion_matrix, plot_roc_curve\n",
    "from sklearn.metrics import roc_auc_score, average_precision_score, plot_roc_curve, plot_precision_recall_curve\n",
    "fig, ax = plt.subplots(figsize=(10, 10))\n",
    "plot_confusion_matrix(BC_gridsearch, X_test, y_test, cmap='Blues', labels=[1, 0], values_format='.0f',xticks_rotation='vertical',ax=ax)\n",
    "plt.savefig('/Users/tim/Desktop/Capstone images/modeling/winner_pred_confusion.png')\n",
    "plt.show()"
   ]
  },
  {
   "cell_type": "code",
   "execution_count": 193,
   "metadata": {},
   "outputs": [
    {
     "data": {
      "image/png": "[encoded data removed]",
      "text/plain": [
       "<Figure size 720x720 with 1 Axes>"
      ]
     },
     "metadata": {
      "needs_background": "light"
     },
     "output_type": "display_data"
    }
   ],
   "source": [
    "fig, ax = plt.subplots(figsize=(10, 10))\n",
    "plot_roc_curve(BC_gridsearch, X_test, y_test, ax=ax)\n",
    "ax.plot([0, 1], [0, 1], 'k--', linewidth=4)\n",
    "plt.savefig('/Users/tim/Desktop/Capstone images/modeling/winner_pred_ROC.png')\n",
    "plt.show()"
   ]
  },
  {
   "cell_type": "code",
   "execution_count": 195,
   "metadata": {},
   "outputs": [
    {
     "data": {
      "image/png": "[encoded data removed]",
      "text/plain": [
       "<Figure size 720x720 with 1 Axes>"
      ]
     },
     "metadata": {
      "needs_background": "light"
     },
     "output_type": "display_data"
    }
   ],
   "source": [
    "plt.fig, ax = plt.subplots(figsize=(10, 10))\n",
    "plot_precision_recall_curve(BC_gridsearch, X_test, y_test, ax=ax)\n",
    "ax.plot([0, 1], [0, 1], 'k--', linewidth=2)\n",
    "plt.savefig('/Users/tim/Desktop/Capstone images/modeling/winner_pred_RECALL.png')\n",
    "plt.show()"
   ]
  },
  {
   "cell_type": "code",
   "execution_count": null,
   "metadata": {},
   "outputs": [],
   "source": []
  }
 ],
 "metadata": {
  "kernelspec": {
   "display_name": "Python 3",
   "language": "python",
   "name": "python3"
  },
  "language_info": {
   "codemirror_mode": {
    "name": "ipython",
    "version": 3
   },
   "file_extension": ".py",
   "mimetype": "text/x-python",
   "name": "python",
   "nbconvert_exporter": "python",
   "pygments_lexer": "ipython3",
   "version": "3.8.5"
  }
 },
 "nbformat": 4,
 "nbformat_minor": 4
}
